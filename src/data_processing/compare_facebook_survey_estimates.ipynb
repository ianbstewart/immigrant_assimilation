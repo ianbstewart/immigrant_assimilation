{
 "cells": [
  {
   "cell_type": "markdown",
   "metadata": {},
   "source": [
    "# Compare Facebook with survey data"
   ]
  },
  {
   "cell_type": "code",
   "execution_count": 1,
   "metadata": {},
   "outputs": [],
   "source": [
    "import pandas as pd\n",
    "import matplotlib\n",
    "%matplotlib inline\n",
    "import matplotlib.pyplot as plt"
   ]
  },
  {
   "cell_type": "markdown",
   "metadata": {},
   "source": [
    "## Load data"
   ]
  },
  {
   "cell_type": "code",
   "execution_count": 2,
   "metadata": {},
   "outputs": [],
   "source": [
    "ad_estimates = pd.read_csv('../../data/query_results/hispanic_expats.tsv', sep='\\t', index_col=False)\n",
    "survey_data = pd.read_csv('../../data/pop_stats/CURRENT_Statistical-Portrait-of-the-Foreign-Born-2015_FINAL.txt', sep='\\t', index_col=False)"
   ]
  },
  {
   "cell_type": "code",
   "execution_count": 4,
   "metadata": {},
   "outputs": [
    {
     "data": {
      "text/html": [
       "<div>\n",
       "<table border=\"1\" class=\"dataframe\">\n",
       "  <thead>\n",
       "    <tr style=\"text-align: right;\">\n",
       "      <th></th>\n",
       "      <th>name</th>\n",
       "      <th>interests</th>\n",
       "      <th>ages_ranges</th>\n",
       "      <th>genders</th>\n",
       "      <th>behavior</th>\n",
       "      <th>scholarities</th>\n",
       "      <th>languages</th>\n",
       "      <th>family_statuses</th>\n",
       "      <th>relationship_statuses</th>\n",
       "      <th>geo_locations</th>\n",
       "      <th>household_composition</th>\n",
       "      <th>all_fields</th>\n",
       "      <th>targeting</th>\n",
       "      <th>response</th>\n",
       "      <th>dau_audience</th>\n",
       "      <th>mau_audience</th>\n",
       "      <th>timestamp</th>\n",
       "      <th>publisher_platforms</th>\n",
       "    </tr>\n",
       "  </thead>\n",
       "  <tbody>\n",
       "    <tr>\n",
       "      <th>0</th>\n",
       "      <td>Hispanic Expats</td>\n",
       "      <td>NaN</td>\n",
       "      <td>{u'min': 18}</td>\n",
       "      <td>0.0</td>\n",
       "      <td>{u'or': [6003133212372L], u'name': u'Hispanic ...</td>\n",
       "      <td>NaN</td>\n",
       "      <td>NaN</td>\n",
       "      <td>NaN</td>\n",
       "      <td>NaN</td>\n",
       "      <td>{u'country': u'US', u'values': [{u'key': u'384...</td>\n",
       "      <td>NaN</td>\n",
       "      <td>(('genders', 0), ('ages_ranges', {u'min': 18})...</td>\n",
       "      <td>{'flexible_spec': [{'behaviors': [{'id': 60031...</td>\n",
       "      <td>{\"data\":[{\"bid_estimate\":{\"min_bid\":175,\"media...</td>\n",
       "      <td>128621</td>\n",
       "      <td>180000</td>\n",
       "      <td>1526920227</td>\n",
       "      <td>[\"facebook\"]</td>\n",
       "    </tr>\n",
       "    <tr>\n",
       "      <th>1</th>\n",
       "      <td>Hispanic Expats</td>\n",
       "      <td>NaN</td>\n",
       "      <td>{u'min': 18}</td>\n",
       "      <td>0.0</td>\n",
       "      <td>{u'not': [6003133212372L], u'name': u'Non-Hisp...</td>\n",
       "      <td>NaN</td>\n",
       "      <td>NaN</td>\n",
       "      <td>NaN</td>\n",
       "      <td>NaN</td>\n",
       "      <td>{u'country': u'US', u'values': [{u'key': u'384...</td>\n",
       "      <td>NaN</td>\n",
       "      <td>(('genders', 0), ('ages_ranges', {u'min': 18})...</td>\n",
       "      <td>{'flexible_spec': [], 'publisher_platforms': [...</td>\n",
       "      <td>{\"data\":[{\"bid_estimate\":{\"min_bid\":165,\"media...</td>\n",
       "      <td>2024399</td>\n",
       "      <td>3000000</td>\n",
       "      <td>1526920227</td>\n",
       "      <td>[\"facebook\"]</td>\n",
       "    </tr>\n",
       "  </tbody>\n",
       "</table>\n",
       "</div>"
      ],
      "text/plain": [
       "              name  interests   ages_ranges  genders  \\\n",
       "0  Hispanic Expats        NaN  {u'min': 18}      0.0   \n",
       "1  Hispanic Expats        NaN  {u'min': 18}      0.0   \n",
       "\n",
       "                                            behavior  scholarities  languages  \\\n",
       "0  {u'or': [6003133212372L], u'name': u'Hispanic ...           NaN        NaN   \n",
       "1  {u'not': [6003133212372L], u'name': u'Non-Hisp...           NaN        NaN   \n",
       "\n",
       "   family_statuses  relationship_statuses  \\\n",
       "0              NaN                    NaN   \n",
       "1              NaN                    NaN   \n",
       "\n",
       "                                       geo_locations  household_composition  \\\n",
       "0  {u'country': u'US', u'values': [{u'key': u'384...                    NaN   \n",
       "1  {u'country': u'US', u'values': [{u'key': u'384...                    NaN   \n",
       "\n",
       "                                          all_fields  \\\n",
       "0  (('genders', 0), ('ages_ranges', {u'min': 18})...   \n",
       "1  (('genders', 0), ('ages_ranges', {u'min': 18})...   \n",
       "\n",
       "                                           targeting  \\\n",
       "0  {'flexible_spec': [{'behaviors': [{'id': 60031...   \n",
       "1  {'flexible_spec': [], 'publisher_platforms': [...   \n",
       "\n",
       "                                            response  dau_audience  \\\n",
       "0  {\"data\":[{\"bid_estimate\":{\"min_bid\":175,\"media...        128621   \n",
       "1  {\"data\":[{\"bid_estimate\":{\"min_bid\":165,\"media...       2024399   \n",
       "\n",
       "   mau_audience   timestamp publisher_platforms  \n",
       "0        180000  1526920227        [\"facebook\"]  \n",
       "1       3000000  1526920227        [\"facebook\"]  "
      ]
     },
     "execution_count": 4,
     "metadata": {},
     "output_type": "execute_result"
    }
   ],
   "source": [
    "ad_estimates.head(2)"
   ]
  },
  {
   "cell_type": "code",
   "execution_count": 5,
   "metadata": {},
   "outputs": [
    {
     "data": {
      "text/html": [
       "<div>\n",
       "<table border=\"1\" class=\"dataframe\">\n",
       "  <thead>\n",
       "    <tr style=\"text-align: right;\">\n",
       "      <th></th>\n",
       "      <th>Unnamed: 0</th>\n",
       "      <th>Foreign born</th>\n",
       "      <th>Mexico</th>\n",
       "      <th>South and \n",
       "East Asia</th>\n",
       "      <th>Europe/ Canada</th>\n",
       "      <th>Caribbean</th>\n",
       "      <th>Central America</th>\n",
       "      <th>South \n",
       "America</th>\n",
       "      <th>Middle East</th>\n",
       "      <th>Sub-Saharan Africa</th>\n",
       "      <th>All other</th>\n",
       "      <th>Hispanic</th>\n",
       "    </tr>\n",
       "  </thead>\n",
       "  <tbody>\n",
       "    <tr>\n",
       "      <th>0</th>\n",
       "      <td>California</td>\n",
       "      <td>10,676,748</td>\n",
       "      <td>4,270,016</td>\n",
       "      <td>3,594,688</td>\n",
       "      <td>912,241</td>\n",
       "      <td>71,248</td>\n",
       "      <td>870,699</td>\n",
       "      <td>245,886</td>\n",
       "      <td>500,468</td>\n",
       "      <td>136,055</td>\n",
       "      <td>75,447</td>\n",
       "      <td>5,211,963</td>\n",
       "    </tr>\n",
       "    <tr>\n",
       "      <th>1</th>\n",
       "      <td>Texas</td>\n",
       "      <td>4,627,888</td>\n",
       "      <td>2,548,247</td>\n",
       "      <td>878,525</td>\n",
       "      <td>242,971</td>\n",
       "      <td>83,340</td>\n",
       "      <td>403,734</td>\n",
       "      <td>140,770</td>\n",
       "      <td>113,616</td>\n",
       "      <td>202,908</td>\n",
       "      <td>13,777</td>\n",
       "      <td>3,035,321</td>\n",
       "    </tr>\n",
       "  </tbody>\n",
       "</table>\n",
       "</div>"
      ],
      "text/plain": [
       "   Unnamed: 0 Foreign born     Mexico South and \\nEast Asia Europe/ Canada  \\\n",
       "0  California   10,676,748  4,270,016             3,594,688        912,241   \n",
       "1       Texas    4,627,888  2,548,247               878,525        242,971   \n",
       "\n",
       "  Caribbean Central America South \\nAmerica Middle East Sub-Saharan Africa  \\\n",
       "0    71,248         870,699         245,886     500,468            136,055   \n",
       "1    83,340         403,734         140,770     113,616            202,908   \n",
       "\n",
       "  All other   Hispanic  \n",
       "0    75,447  5,211,963  \n",
       "1    13,777  3,035,321  "
      ]
     },
     "execution_count": 5,
     "metadata": {},
     "output_type": "execute_result"
    }
   ],
   "source": [
    "survey_data.head(2)"
   ]
  },
  {
   "cell_type": "code",
   "execution_count": null,
   "metadata": {},
   "outputs": [],
   "source": []
  }
 ],
 "metadata": {
  "kernelspec": {
   "display_name": "Python 2 (Spyder)",
   "language": "python2",
   "name": "python2"
  },
  "language_info": {
   "codemirror_mode": {
    "name": "ipython",
    "version": 2
   },
   "file_extension": ".py",
   "mimetype": "text/x-python",
   "name": "python",
   "nbconvert_exporter": "python",
   "pygments_lexer": "ipython2",
   "version": "2.7.14"
  }
 },
 "nbformat": 4,
 "nbformat_minor": 2
}
