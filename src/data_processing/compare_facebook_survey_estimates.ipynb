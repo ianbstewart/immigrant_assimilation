{
 "cells": [
  {
   "cell_type": "markdown",
   "metadata": {},
   "source": [
    "# Compare Facebook with survey data"
   ]
  },
  {
   "cell_type": "code",
   "execution_count": 17,
   "metadata": {},
   "outputs": [],
   "source": [
    "import pandas as pd\n",
    "import matplotlib\n",
    "%matplotlib inline\n",
    "import matplotlib.pyplot as plt\n",
    "import json"
   ]
  },
  {
   "cell_type": "markdown",
   "metadata": {},
   "source": [
    "## Load data"
   ]
  },
  {
   "cell_type": "code",
   "execution_count": 80,
   "metadata": {},
   "outputs": [],
   "source": [
    "ad_estimates = pd.read_csv('../../data/query_results/hispanic_expats.tsv', sep='\\t', index_col=False)\n",
    "survey_data = pd.read_csv('../../data/pop_stats/CURRENT_Statistical-Portrait-of-the-Foreign-Born-2015_FINAL.txt', sep='\\t', index_col=0)\n",
    "state_data = pd.read_csv('../../data/pop_stats/state_pop_stats.tsv', sep='\\t', index_col=0)\n",
    "# join\n",
    "idx_overlap = list(set(survey_data.index) & set(state_data.index))\n",
    "survey_data = survey_data.loc[idx_overlap, :]\n",
    "state_data = state_data.loc[idx_overlap, :]\n",
    "survey_data.loc[:, 'total_pop'] = state_data.loc[:, 'July 2015']\n",
    "# clean up numbers\n",
    "survey_data = survey_data.applymap(lambda x: int(str(x).replace(',', '')))\n",
    "# clean up JSON\n",
    "json_cols = ['geo_locations', 'behavior', 'response', 'ages_ranges']\n",
    "for c in json_cols:\n",
    "    ad_estimates.loc[:, c] = ad_estimates.loc[:, c].apply(lambda x: json.loads(x.replace(\"u'\", \"'\").replace(\"'\", '\"')))"
   ]
  },
  {
   "cell_type": "code",
   "execution_count": 81,
   "metadata": {},
   "outputs": [
    {
     "data": {
      "text/html": [
       "<div>\n",
       "<table border=\"1\" class=\"dataframe\">\n",
       "  <thead>\n",
       "    <tr style=\"text-align: right;\">\n",
       "      <th></th>\n",
       "      <th>name</th>\n",
       "      <th>interests</th>\n",
       "      <th>ages_ranges</th>\n",
       "      <th>genders</th>\n",
       "      <th>behavior</th>\n",
       "      <th>scholarities</th>\n",
       "      <th>languages</th>\n",
       "      <th>family_statuses</th>\n",
       "      <th>relationship_statuses</th>\n",
       "      <th>geo_locations</th>\n",
       "      <th>household_composition</th>\n",
       "      <th>all_fields</th>\n",
       "      <th>targeting</th>\n",
       "      <th>response</th>\n",
       "      <th>dau_audience</th>\n",
       "      <th>mau_audience</th>\n",
       "      <th>timestamp</th>\n",
       "      <th>publisher_platforms</th>\n",
       "    </tr>\n",
       "  </thead>\n",
       "  <tbody>\n",
       "    <tr>\n",
       "      <th>0</th>\n",
       "      <td>Hispanic Expats</td>\n",
       "      <td>NaN</td>\n",
       "      <td>{u'min': 18}</td>\n",
       "      <td>0.0</td>\n",
       "      <td>{u'or': [6003133212372], u'name': u'Hispanic (...</td>\n",
       "      <td>NaN</td>\n",
       "      <td>NaN</td>\n",
       "      <td>NaN</td>\n",
       "      <td>NaN</td>\n",
       "      <td>{u'country': u'US', u'values': [{u'key': u'384...</td>\n",
       "      <td>NaN</td>\n",
       "      <td>(('genders', 0), ('ages_ranges', {u'min': 18})...</td>\n",
       "      <td>{\"flexible_spec\": [{\"behaviors\": [{\"id\": 60031...</td>\n",
       "      <td>{u'data': [{u'estimate_mau': 180000, u'estimat...</td>\n",
       "      <td>131267</td>\n",
       "      <td>180000</td>\n",
       "      <td>1526987902</td>\n",
       "      <td>[\"facebook\"]</td>\n",
       "    </tr>\n",
       "    <tr>\n",
       "      <th>1</th>\n",
       "      <td>Hispanic Expats</td>\n",
       "      <td>NaN</td>\n",
       "      <td>{u'min': 18}</td>\n",
       "      <td>0.0</td>\n",
       "      <td>{u'not': [6003133212372], u'name': u'Non-Hispa...</td>\n",
       "      <td>NaN</td>\n",
       "      <td>NaN</td>\n",
       "      <td>NaN</td>\n",
       "      <td>NaN</td>\n",
       "      <td>{u'country': u'US', u'values': [{u'key': u'384...</td>\n",
       "      <td>NaN</td>\n",
       "      <td>(('genders', 0), ('ages_ranges', {u'min': 18})...</td>\n",
       "      <td>{\"flexible_spec\": [], \"publisher_platforms\": [...</td>\n",
       "      <td>{u'data': [{u'estimate_mau': 3000000, u'estima...</td>\n",
       "      <td>1989473</td>\n",
       "      <td>3000000</td>\n",
       "      <td>1526987902</td>\n",
       "      <td>[\"facebook\"]</td>\n",
       "    </tr>\n",
       "  </tbody>\n",
       "</table>\n",
       "</div>"
      ],
      "text/plain": [
       "              name  interests   ages_ranges  genders  \\\n",
       "0  Hispanic Expats        NaN  {u'min': 18}      0.0   \n",
       "1  Hispanic Expats        NaN  {u'min': 18}      0.0   \n",
       "\n",
       "                                            behavior  scholarities  languages  \\\n",
       "0  {u'or': [6003133212372], u'name': u'Hispanic (...           NaN        NaN   \n",
       "1  {u'not': [6003133212372], u'name': u'Non-Hispa...           NaN        NaN   \n",
       "\n",
       "   family_statuses  relationship_statuses  \\\n",
       "0              NaN                    NaN   \n",
       "1              NaN                    NaN   \n",
       "\n",
       "                                       geo_locations  household_composition  \\\n",
       "0  {u'country': u'US', u'values': [{u'key': u'384...                    NaN   \n",
       "1  {u'country': u'US', u'values': [{u'key': u'384...                    NaN   \n",
       "\n",
       "                                          all_fields  \\\n",
       "0  (('genders', 0), ('ages_ranges', {u'min': 18})...   \n",
       "1  (('genders', 0), ('ages_ranges', {u'min': 18})...   \n",
       "\n",
       "                                           targeting  \\\n",
       "0  {\"flexible_spec\": [{\"behaviors\": [{\"id\": 60031...   \n",
       "1  {\"flexible_spec\": [], \"publisher_platforms\": [...   \n",
       "\n",
       "                                            response  dau_audience  \\\n",
       "0  {u'data': [{u'estimate_mau': 180000, u'estimat...        131267   \n",
       "1  {u'data': [{u'estimate_mau': 3000000, u'estima...       1989473   \n",
       "\n",
       "   mau_audience   timestamp publisher_platforms  \n",
       "0        180000  1526987902        [\"facebook\"]  \n",
       "1       3000000  1526987902        [\"facebook\"]  "
      ]
     },
     "execution_count": 81,
     "metadata": {},
     "output_type": "execute_result"
    }
   ],
   "source": [
    "ad_estimates.head(2)"
   ]
  },
  {
   "cell_type": "code",
   "execution_count": 82,
   "metadata": {},
   "outputs": [
    {
     "data": {
      "text/html": [
       "<div>\n",
       "<table border=\"1\" class=\"dataframe\">\n",
       "  <thead>\n",
       "    <tr style=\"text-align: right;\">\n",
       "      <th></th>\n",
       "      <th>Foreign born</th>\n",
       "      <th>Mexico</th>\n",
       "      <th>South and \n",
       "East Asia</th>\n",
       "      <th>Europe/ Canada</th>\n",
       "      <th>Caribbean</th>\n",
       "      <th>Central America</th>\n",
       "      <th>South \n",
       "America</th>\n",
       "      <th>Middle East</th>\n",
       "      <th>Sub-Saharan Africa</th>\n",
       "      <th>All other</th>\n",
       "      <th>Hispanic</th>\n",
       "      <th>total_pop</th>\n",
       "    </tr>\n",
       "  </thead>\n",
       "  <tbody>\n",
       "    <tr>\n",
       "      <th>Mississippi</th>\n",
       "      <td>68413</td>\n",
       "      <td>24604</td>\n",
       "      <td>19246</td>\n",
       "      <td>9951</td>\n",
       "      <td>2558</td>\n",
       "      <td>5761</td>\n",
       "      <td>1912</td>\n",
       "      <td>1106</td>\n",
       "      <td>3055</td>\n",
       "      <td>0</td>\n",
       "      <td>32923</td>\n",
       "      <td>2992333</td>\n",
       "    </tr>\n",
       "    <tr>\n",
       "      <th>Oklahoma</th>\n",
       "      <td>232813</td>\n",
       "      <td>112976</td>\n",
       "      <td>58422</td>\n",
       "      <td>18011</td>\n",
       "      <td>1971</td>\n",
       "      <td>20075</td>\n",
       "      <td>7609</td>\n",
       "      <td>6411</td>\n",
       "      <td>6327</td>\n",
       "      <td>1011</td>\n",
       "      <td>135022</td>\n",
       "      <td>3911338</td>\n",
       "    </tr>\n",
       "    <tr>\n",
       "      <th>Wyoming</th>\n",
       "      <td>18758</td>\n",
       "      <td>8805</td>\n",
       "      <td>3766</td>\n",
       "      <td>3188</td>\n",
       "      <td>0</td>\n",
       "      <td>0</td>\n",
       "      <td>0</td>\n",
       "      <td>0</td>\n",
       "      <td>1246</td>\n",
       "      <td>0</td>\n",
       "      <td>8805</td>\n",
       "      <td>586107</td>\n",
       "    </tr>\n",
       "  </tbody>\n",
       "</table>\n",
       "</div>"
      ],
      "text/plain": [
       "             Foreign born  Mexico  South and \\nEast Asia  Europe/ Canada  \\\n",
       "Mississippi         68413   24604                  19246            9951   \n",
       "Oklahoma           232813  112976                  58422           18011   \n",
       "Wyoming             18758    8805                   3766            3188   \n",
       "\n",
       "             Caribbean  Central America  South \\nAmerica  Middle East  \\\n",
       "Mississippi       2558             5761             1912         1106   \n",
       "Oklahoma          1971            20075             7609         6411   \n",
       "Wyoming              0                0                0            0   \n",
       "\n",
       "             Sub-Saharan Africa  All other  Hispanic  total_pop  \n",
       "Mississippi                3055          0     32923    2992333  \n",
       "Oklahoma                   6327       1011    135022    3911338  \n",
       "Wyoming                    1246          0      8805     586107  "
      ]
     },
     "execution_count": 82,
     "metadata": {},
     "output_type": "execute_result"
    }
   ],
   "source": [
    "survey_data.head(3)"
   ]
  },
  {
   "cell_type": "markdown",
   "metadata": {},
   "source": [
    "## Clean data\n",
    "Let's clean up the data to include state and percent population foreign-born Hispanic (`hispanic_pct`)."
   ]
  },
  {
   "cell_type": "code",
   "execution_count": 83,
   "metadata": {},
   "outputs": [
    {
     "data": {
      "text/plain": [
       "California    0.133146\n",
       "Florida       0.115678\n",
       "Texas         0.110499\n",
       "Nevada        0.102722\n",
       "New York      0.081519\n",
       "Arizona       0.080987\n",
       "New Mexico    0.069278\n",
       "New Jersey    0.065702\n",
       "Illinois      0.061013\n",
       "Colorado      0.049364\n",
       "Name: hispanic_pct, dtype: float64"
      ]
     },
     "execution_count": 83,
     "metadata": {},
     "output_type": "execute_result"
    }
   ],
   "source": [
    "survey_data.loc[:, 'hispanic_pct'] = survey_data.loc[:, 'Hispanic'] / survey_data.loc[:, 'total_pop']\n",
    "survey_data.loc[:, 'hispanic_pct'].sort_values(inplace=False, ascending=False).head(10)"
   ]
  },
  {
   "cell_type": "markdown",
   "metadata": {},
   "source": [
    "To reassign the states we need to reload the ID-state pairs."
   ]
  },
  {
   "cell_type": "code",
   "execution_count": 95,
   "metadata": {},
   "outputs": [],
   "source": [
    "id_state_data = pd.read_csv('../../data/query_results/state_locs.tsv', sep='\\t', index_col=False)\n",
    "id_state_lookup = dict(zip(id_state_data.loc[:, 'key'].values, id_state_data.loc[:, 'name'].values))\n",
    "ad_estimates.loc[:, 'state'] = ad_estimates.loc[:, 'geo_locations'].apply(lambda x: id_state_lookup.get(int(x['values'][0]['key'])))"
   ]
  },
  {
   "cell_type": "markdown",
   "metadata": {},
   "source": [
    "We also need to specify Hispanic Ex-pat versus non-Hispanic Ex-pat."
   ]
  },
  {
   "cell_type": "code",
   "execution_count": 101,
   "metadata": {},
   "outputs": [],
   "source": [
    "ad_estimates.loc[:, 'demo_group'] = ad_estimates.loc[:, 'behavior'].apply(lambda x: x['name'])"
   ]
  },
  {
   "cell_type": "code",
   "execution_count": 109,
   "metadata": {},
   "outputs": [],
   "source": [
    "# compute Hispanic percent for MAU and DAU\n",
    "hisp_name = 'Hispanic (US - All)'\n",
    "non_hisp_name = 'Non-Hispanic'\n",
    "dau_hispanic_pct = ad_estimates.groupby('state').apply(lambda x: (x[x.loc[:, 'demo_group'] == hisp_name].loc[:, 'dau_audience'].iloc[0].astype(float) / \n",
    "                                                                  x.loc[:, 'dau_audience'].sum()))\n",
    "mau_hispanic_pct = ad_estimates.groupby('state').apply(lambda x: (x[x.loc[:, 'demo_group'] == hisp_name].loc[:, 'mau_audience'].iloc[0].astype(float) / \n",
    "                                                                  x.loc[:, 'mau_audience'].sum()))"
   ]
  },
  {
   "cell_type": "markdown",
   "metadata": {},
   "source": [
    "Combine everything into one frame!"
   ]
  },
  {
   "cell_type": "code",
   "execution_count": 126,
   "metadata": {},
   "outputs": [
    {
     "data": {
      "text/html": [
       "<div>\n",
       "<table border=\"1\" class=\"dataframe\">\n",
       "  <thead>\n",
       "    <tr style=\"text-align: right;\">\n",
       "      <th></th>\n",
       "      <th>Hispanic_pct_survey</th>\n",
       "      <th>Hispanic_pct_FB_DAU</th>\n",
       "      <th>Hispanic_pct_FB_MAU</th>\n",
       "    </tr>\n",
       "  </thead>\n",
       "  <tbody>\n",
       "    <tr>\n",
       "      <th>Alabama</th>\n",
       "      <td>0.016587</td>\n",
       "      <td>0.061897</td>\n",
       "      <td>0.056604</td>\n",
       "    </tr>\n",
       "    <tr>\n",
       "      <th>Alaska</th>\n",
       "      <td>0.005945</td>\n",
       "      <td>0.053194</td>\n",
       "      <td>0.044715</td>\n",
       "    </tr>\n",
       "    <tr>\n",
       "      <th>Arizona</th>\n",
       "      <td>0.080987</td>\n",
       "      <td>0.350390</td>\n",
       "      <td>0.295455</td>\n",
       "    </tr>\n",
       "    <tr>\n",
       "      <th>Arkansas</th>\n",
       "      <td>0.028798</td>\n",
       "      <td>0.087582</td>\n",
       "      <td>0.081633</td>\n",
       "    </tr>\n",
       "    <tr>\n",
       "      <th>California</th>\n",
       "      <td>0.133146</td>\n",
       "      <td>0.371369</td>\n",
       "      <td>0.317269</td>\n",
       "    </tr>\n",
       "  </tbody>\n",
       "</table>\n",
       "</div>"
      ],
      "text/plain": [
       "            Hispanic_pct_survey  Hispanic_pct_FB_DAU  Hispanic_pct_FB_MAU\n",
       "Alabama                0.016587             0.061897             0.056604\n",
       "Alaska                 0.005945             0.053194             0.044715\n",
       "Arizona                0.080987             0.350390             0.295455\n",
       "Arkansas               0.028798             0.087582             0.081633\n",
       "California             0.133146             0.371369             0.317269"
      ]
     },
     "execution_count": 126,
     "metadata": {},
     "output_type": "execute_result"
    }
   ],
   "source": [
    "hispanic_data = pd.concat([survey_data.loc[:, 'hispanic_pct'], \n",
    "                           dau_hispanic_pct,\n",
    "                           mau_hispanic_pct], axis=1)\n",
    "hispanic_data.columns = ['Hispanic_pct_survey', 'Hispanic_pct_FB_DAU', 'Hispanic_pct_FB_MAU']\n",
    "# remove nan rows\n",
    "hispanic_data = hispanic_data[~ hispanic_data.apply(lambda x: pd.np.any(pd.np.isnan(x)), axis=1)]\n",
    "hispanic_data.head()"
   ]
  },
  {
   "cell_type": "markdown",
   "metadata": {},
   "source": [
    "These counts look reasonable, although sometimes the Facebook estimates are all overestimates (sometimes by factor of 10, e.g. Alaska??). \n",
    "\n",
    "Let's look at the bivariate distributions to see if the counts roughly line up."
   ]
  },
  {
   "cell_type": "code",
   "execution_count": 134,
   "metadata": {},
   "outputs": [
    {
     "data": {
      "image/png": "[encoded data removed]",
      "text/plain": [
       "<matplotlib.figure.Figure at 0xe3c67f0>"
      ]
     },
     "metadata": {},
     "output_type": "display_data"
    }
   ],
   "source": [
    "import seaborn as sns\n",
    "pair_grid = sns.pairplot(hispanic_data, kind='reg')\n",
    "M = hispanic_data.shape[1]\n",
    "for i in range(M):\n",
    "    for j in range(M):\n",
    "        if(i != j):\n",
    "            ax = pair_grid.axes[i][j]\n",
    "            x0, x1 = ax.get_xlim()\n",
    "            y0, y1 = ax.get_ylim()\n",
    "            lims = [max(x0, y0), min(x1, y1)]\n",
    "            ax.plot(lims, lims, ':k')\n",
    "plt.show()"
   ]
  },
  {
   "cell_type": "markdown",
   "metadata": {},
   "source": [
    "OK! We see that the Facebook estimates overestimate the survey response, and this seems to get worse with higher survey responses."
   ]
  },
  {
   "cell_type": "code",
   "execution_count": null,
   "metadata": {},
   "outputs": [],
   "source": []
  }
 ],
 "metadata": {
  "kernelspec": {
   "display_name": "Python 2 (Spyder)",
   "language": "python2",
   "name": "python2"
  },
  "language_info": {
   "codemirror_mode": {
    "name": "ipython",
    "version": 2
   },
   "file_extension": ".py",
   "mimetype": "text/x-python",
   "name": "python",
   "nbconvert_exporter": "python",
   "pygments_lexer": "ipython2",
   "version": "2.7.14"
  }
 },
 "nbformat": 4,
 "nbformat_minor": 2
}
